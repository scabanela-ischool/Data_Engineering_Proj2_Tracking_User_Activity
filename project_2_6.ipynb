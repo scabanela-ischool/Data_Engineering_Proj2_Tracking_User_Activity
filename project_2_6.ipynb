{
 "cells": [
  {
   "cell_type": "markdown",
   "id": "3f465500",
   "metadata": {},
   "source": [
    "# Project 2, Part 6, Preliminary analytics\n",
    "\n",
    "University of California, Berkeley\n",
    "\n",
    "Master of Information and Data Science (MIDS) program\n",
    "\n",
    "w205 - Fundamentals of Data Engineering\n",
    "\n",
    "Student: Stephanie Cabanela\n",
    "\n",
    "Year: 2022\n",
    "\n",
    "Semester: Spring\n",
    "\n",
    "Section: 7\n"
   ]
  },
  {
   "cell_type": "markdown",
   "id": "33c6e20e",
   "metadata": {},
   "source": [
    "# Included Modules and Packages\n",
    "\n",
    "Code cell containing your includes for modules and packages"
   ]
  },
  {
   "cell_type": "code",
   "execution_count": 1,
   "id": "63839f89",
   "metadata": {},
   "outputs": [],
   "source": [
    "import math\n",
    "import numpy as np\n",
    "import pandas as pd\n",
    "import psycopg2\n",
    "from datetime import datetime as dt"
   ]
  },
  {
   "cell_type": "markdown",
   "id": "c91c8869",
   "metadata": {},
   "source": [
    "# Supporting code\n",
    "\n",
    "Code cells containing any supporting code, such as connecting to the database, any functions, etc.  \n",
    "\n",
    "Remember you can freely use any code from the labs. You do not need to cite code from the labs."
   ]
  },
  {
   "cell_type": "code",
   "execution_count": 2,
   "id": "5d21fb19",
   "metadata": {},
   "outputs": [],
   "source": [
    "connection = psycopg2.connect(\n",
    "    user = \"postgres\",\n",
    "    password = \"ucb\",\n",
    "    host = \"postgres\",\n",
    "    port = \"5432\",\n",
    "    database = \"postgres\"\n",
    ")\n",
    "\n",
    "cursor = connection.cursor()\n",
    "\n",
    "def my_select_query_pandas(query, rollback_before_flag, rollback_after_flag):\n",
    "    \"function to run a select query and return rows in a pandas dataframe\"\n",
    "    \n",
    "    if rollback_before_flag:\n",
    "        connection.rollback()\n",
    "    \n",
    "    df = pd.read_sql_query(query, connection)\n",
    "    \n",
    "    if rollback_after_flag:\n",
    "        connection.rollback()\n",
    "    \n",
    "    # fix the float columns that really should be integers\n",
    "    \n",
    "    for column in df:\n",
    "    \n",
    "        if df[column].dtype == \"float64\":\n",
    "\n",
    "            fraction_flag = False\n",
    "\n",
    "            for value in df[column].values:\n",
    "                \n",
    "                if not np.isnan(value):\n",
    "                    if value - math.floor(value) != 0:\n",
    "                        fraction_flag = True\n",
    "\n",
    "            if not fraction_flag:\n",
    "                df[column] = df[column].astype('Int64')\n",
    "    \n",
    "    return(df)"
   ]
  },
  {
   "cell_type": "markdown",
   "id": "d2e6beed",
   "metadata": {},
   "source": [
    "# 2.6.1 Total dollar amount of sales\n",
    "\n",
    "Write a query to sum the total_amount in the stage_1_peak_sales table and present the sum in a Pandas dataframe with appropriate column header name.\n",
    "\n",
    "It is fine to leave the sum as is.  You do not have to format it or put in dollar signs.\n",
    "\n",
    "Remember that you need to convert varchars to numeric using column::numeric before doing any math on them.\n",
    "\n",
    "Pattern your code after the examples in the labs.  You may use as many code cells as you need."
   ]
  },
  {
   "cell_type": "code",
   "execution_count": 3,
   "id": "c5d749bc",
   "metadata": {},
   "outputs": [
    {
     "data": {
      "text/html": [
       "<div>\n",
       "<style scoped>\n",
       "    .dataframe tbody tr th:only-of-type {\n",
       "        vertical-align: middle;\n",
       "    }\n",
       "\n",
       "    .dataframe tbody tr th {\n",
       "        vertical-align: top;\n",
       "    }\n",
       "\n",
       "    .dataframe thead th {\n",
       "        text-align: right;\n",
       "    }\n",
       "</style>\n",
       "<table border=\"1\" class=\"dataframe\">\n",
       "  <thead>\n",
       "    <tr style=\"text-align: right;\">\n",
       "      <th></th>\n",
       "      <th>total_dollar_sales</th>\n",
       "    </tr>\n",
       "  </thead>\n",
       "  <tbody>\n",
       "    <tr>\n",
       "      <th>0</th>\n",
       "      <td>6480</td>\n",
       "    </tr>\n",
       "  </tbody>\n",
       "</table>\n",
       "</div>"
      ],
      "text/plain": [
       "   total_dollar_sales\n",
       "0                6480"
      ]
     },
     "execution_count": 3,
     "metadata": {},
     "output_type": "execute_result"
    }
   ],
   "source": [
    "rollback_before_flag = True\n",
    "rollback_after_flag = True\n",
    "\n",
    "query  = \"\"\"\n",
    "\n",
    "select sum(total_amount::numeric) as total_dollar_sales\n",
    "from stage_1_peak_sales\n",
    "\n",
    "\"\"\"\n",
    "\n",
    "my_select_query_pandas(query, rollback_before_flag, rollback_after_flag)"
   ]
  },
  {
   "cell_type": "markdown",
   "id": "4ae8ab94",
   "metadata": {},
   "source": [
    "# 2.6.2 Total number of sales\n",
    "\n",
    "Write a query to count the total number of sales in the stage_1_peak_sales table and present the sum in a Pandas dataframe with appropriate column header name.  Each record in the stage_1_peak_sales table is a sale.\n",
    "\n",
    "It is fine to leave the count as is.  You do not have to format it.\n",
    "\n",
    "Pattern your code after the examples in the labs.  You may use as many code cells as you need."
   ]
  },
  {
   "cell_type": "code",
   "execution_count": 4,
   "id": "0c1c067f",
   "metadata": {},
   "outputs": [
    {
     "data": {
      "text/html": [
       "<div>\n",
       "<style scoped>\n",
       "    .dataframe tbody tr th:only-of-type {\n",
       "        vertical-align: middle;\n",
       "    }\n",
       "\n",
       "    .dataframe tbody tr th {\n",
       "        vertical-align: top;\n",
       "    }\n",
       "\n",
       "    .dataframe thead th {\n",
       "        text-align: right;\n",
       "    }\n",
       "</style>\n",
       "<table border=\"1\" class=\"dataframe\">\n",
       "  <thead>\n",
       "    <tr style=\"text-align: right;\">\n",
       "      <th></th>\n",
       "      <th>total_number_sales</th>\n",
       "    </tr>\n",
       "  </thead>\n",
       "  <tbody>\n",
       "    <tr>\n",
       "      <th>0</th>\n",
       "      <td>97</td>\n",
       "    </tr>\n",
       "  </tbody>\n",
       "</table>\n",
       "</div>"
      ],
      "text/plain": [
       "   total_number_sales\n",
       "0                  97"
      ]
     },
     "execution_count": 4,
     "metadata": {},
     "output_type": "execute_result"
    }
   ],
   "source": [
    "rollback_before_flag = True\n",
    "rollback_after_flag = True\n",
    "\n",
    "query  = \"\"\"\n",
    "\n",
    "select count(*) as total_number_sales\n",
    "from stage_1_peak_sales\n",
    "\n",
    "\"\"\"\n",
    "\n",
    "my_select_query_pandas(query, rollback_before_flag, rollback_after_flag)"
   ]
  },
  {
   "cell_type": "markdown",
   "id": "da981c22",
   "metadata": {},
   "source": [
    "# 2.6.3 Total dollar amount of sales, total cut paid to Peak, net to AGM\n",
    "\n",
    "AGM is paying Peak an 18% cut to deliver the meals.\n",
    "\n",
    "Write a query to calculate the total dollar amount of sales, the total cut paid to Peak, and the net to AGM.  \n",
    "\n",
    "You may want to round to 2 decimal places for the total cut paid to Peak and the net to AGM, as they will be decimal.  \n",
    "\n",
    "You do not need to format the numers with commas, dollar signs, etc.\n",
    "\n",
    "Remember that you need to convert varchars to numeric using column::numeric before doing any math on them.\n",
    "\n",
    "Pattern your code after the examples in the labs.  You may use as many code cells as you need."
   ]
  },
  {
   "cell_type": "code",
   "execution_count": 5,
   "id": "2ff10263",
   "metadata": {},
   "outputs": [
    {
     "data": {
      "text/html": [
       "<div>\n",
       "<style scoped>\n",
       "    .dataframe tbody tr th:only-of-type {\n",
       "        vertical-align: middle;\n",
       "    }\n",
       "\n",
       "    .dataframe tbody tr th {\n",
       "        vertical-align: top;\n",
       "    }\n",
       "\n",
       "    .dataframe thead th {\n",
       "        text-align: right;\n",
       "    }\n",
       "</style>\n",
       "<table border=\"1\" class=\"dataframe\">\n",
       "  <thead>\n",
       "    <tr style=\"text-align: right;\">\n",
       "      <th></th>\n",
       "      <th>total_dollar_sales</th>\n",
       "      <th>total_peak_cut</th>\n",
       "      <th>total_agm_net</th>\n",
       "    </tr>\n",
       "  </thead>\n",
       "  <tbody>\n",
       "    <tr>\n",
       "      <th>0</th>\n",
       "      <td>6480</td>\n",
       "      <td>1166.4</td>\n",
       "      <td>5313.6</td>\n",
       "    </tr>\n",
       "  </tbody>\n",
       "</table>\n",
       "</div>"
      ],
      "text/plain": [
       "   total_dollar_sales  total_peak_cut  total_agm_net\n",
       "0                6480          1166.4         5313.6"
      ]
     },
     "execution_count": 5,
     "metadata": {},
     "output_type": "execute_result"
    }
   ],
   "source": [
    "rollback_before_flag = True\n",
    "rollback_after_flag = True\n",
    "\n",
    "query  = \"\"\"\n",
    "\n",
    "select sum(total_amount::numeric) as total_dollar_sales,\n",
    "    round(sum(total_amount::numeric) * 0.18, 2) as total_peak_cut,\n",
    "    round(sum(total_amount::numeric) * (1 - 0.18), 2) as total_agm_net\n",
    "from stage_1_peak_sales\n",
    "\n",
    "\"\"\"\n",
    "\n",
    "my_select_query_pandas(query, rollback_before_flag, rollback_after_flag)"
   ]
  },
  {
   "cell_type": "markdown",
   "id": "115bf249",
   "metadata": {},
   "source": [
    "# 2.6.4 Total number of meals sold\n",
    "\n",
    "Write a query to sum the quantity in the stage_1_peak_line_items table and present the sum in a Pandas dataframe with appropriate column header name\n",
    "\n",
    "It is fine to leave the number as is.  You do not have to format it.\n",
    "\n",
    "Remember that you need to convert varchars to numeric using column::numeric before doing any math on them.\n",
    "\n",
    "Pattern your code after the examples in the labs.  You may use as many code cells as you need."
   ]
  },
  {
   "cell_type": "code",
   "execution_count": 6,
   "id": "a099b456",
   "metadata": {},
   "outputs": [
    {
     "data": {
      "text/html": [
       "<div>\n",
       "<style scoped>\n",
       "    .dataframe tbody tr th:only-of-type {\n",
       "        vertical-align: middle;\n",
       "    }\n",
       "\n",
       "    .dataframe tbody tr th {\n",
       "        vertical-align: top;\n",
       "    }\n",
       "\n",
       "    .dataframe thead th {\n",
       "        text-align: right;\n",
       "    }\n",
       "</style>\n",
       "<table border=\"1\" class=\"dataframe\">\n",
       "  <thead>\n",
       "    <tr style=\"text-align: right;\">\n",
       "      <th></th>\n",
       "      <th>total_meals_sold</th>\n",
       "    </tr>\n",
       "  </thead>\n",
       "  <tbody>\n",
       "    <tr>\n",
       "      <th>0</th>\n",
       "      <td>540</td>\n",
       "    </tr>\n",
       "  </tbody>\n",
       "</table>\n",
       "</div>"
      ],
      "text/plain": [
       "   total_meals_sold\n",
       "0               540"
      ]
     },
     "execution_count": 6,
     "metadata": {},
     "output_type": "execute_result"
    }
   ],
   "source": [
    "rollback_before_flag = True\n",
    "rollback_after_flag = True\n",
    "\n",
    "query  = \"\"\"\n",
    "\n",
    "select sum(quantity::numeric) as total_meals_sold\n",
    "from stage_1_peak_line_items\n",
    "\n",
    "\"\"\"\n",
    "\n",
    "my_select_query_pandas(query, rollback_before_flag, rollback_after_flag)"
   ]
  },
  {
   "cell_type": "markdown",
   "id": "1040af7a",
   "metadata": {},
   "source": [
    "# 2.6.5 Total number of meals sold by meal\n",
    "\n",
    "Expanding on the last query, group the sum of quantity by meal.  Display the meal followed by the number of meals sold. \n",
    "\n",
    "Sort by highest number sold first.\n",
    "\n",
    "Note that you will need to use the peak_product_mapping table and the products table in addition to the stage_1_peak_line_items table.\n",
    "\n",
    "It is fine to leave the numbers as is.  You do not have to format them.\n",
    "\n",
    "Remember that you need to convert varchars to numeric using column::numeric before doing any math on them.\n",
    "\n",
    "Pattern your code after the examples in the labs.  You may use as many code cells as you need."
   ]
  },
  {
   "cell_type": "code",
   "execution_count": 7,
   "id": "9497750b",
   "metadata": {},
   "outputs": [
    {
     "data": {
      "text/html": [
       "<div>\n",
       "<style scoped>\n",
       "    .dataframe tbody tr th:only-of-type {\n",
       "        vertical-align: middle;\n",
       "    }\n",
       "\n",
       "    .dataframe tbody tr th {\n",
       "        vertical-align: top;\n",
       "    }\n",
       "\n",
       "    .dataframe thead th {\n",
       "        text-align: right;\n",
       "    }\n",
       "</style>\n",
       "<table border=\"1\" class=\"dataframe\">\n",
       "  <thead>\n",
       "    <tr style=\"text-align: right;\">\n",
       "      <th></th>\n",
       "      <th>meal_name</th>\n",
       "      <th>total_sold</th>\n",
       "    </tr>\n",
       "  </thead>\n",
       "  <tbody>\n",
       "    <tr>\n",
       "      <th>0</th>\n",
       "      <td>Pistachio Salmon</td>\n",
       "      <td>113</td>\n",
       "    </tr>\n",
       "    <tr>\n",
       "      <th>1</th>\n",
       "      <td>Eggplant Lasagna</td>\n",
       "      <td>107</td>\n",
       "    </tr>\n",
       "    <tr>\n",
       "      <th>2</th>\n",
       "      <td>Curry Chicken</td>\n",
       "      <td>101</td>\n",
       "    </tr>\n",
       "    <tr>\n",
       "      <th>3</th>\n",
       "      <td>Teriyaki Chicken</td>\n",
       "      <td>80</td>\n",
       "    </tr>\n",
       "    <tr>\n",
       "      <th>4</th>\n",
       "      <td>Brocolli Stir Fry</td>\n",
       "      <td>60</td>\n",
       "    </tr>\n",
       "    <tr>\n",
       "      <th>5</th>\n",
       "      <td>Tilapia Piccata</td>\n",
       "      <td>44</td>\n",
       "    </tr>\n",
       "    <tr>\n",
       "      <th>6</th>\n",
       "      <td>Spinach Orzo</td>\n",
       "      <td>27</td>\n",
       "    </tr>\n",
       "    <tr>\n",
       "      <th>7</th>\n",
       "      <td>Chicken Salad</td>\n",
       "      <td>8</td>\n",
       "    </tr>\n",
       "  </tbody>\n",
       "</table>\n",
       "</div>"
      ],
      "text/plain": [
       "           meal_name  total_sold\n",
       "0   Pistachio Salmon         113\n",
       "1   Eggplant Lasagna         107\n",
       "2      Curry Chicken         101\n",
       "3   Teriyaki Chicken          80\n",
       "4  Brocolli Stir Fry          60\n",
       "5    Tilapia Piccata          44\n",
       "6       Spinach Orzo          27\n",
       "7      Chicken Salad           8"
      ]
     },
     "execution_count": 7,
     "metadata": {},
     "output_type": "execute_result"
    }
   ],
   "source": [
    "rollback_before_flag = True\n",
    "rollback_after_flag = True\n",
    "\n",
    "query = \"\"\"\n",
    "\n",
    "select pd.description as meal_name, quantities.total_sold::numeric as total_sold\n",
    "from (select ppm.product_id as product_id, sum(li.quantity::numeric) as total_sold\n",
    "    from stage_1_peak_line_items as li\n",
    "        join peak_product_mapping as ppm on li.product_id::numeric = ppm.peak_product_id\n",
    "    group by ppm.product_id) as quantities\n",
    "    join products as pd on quantities.product_id::numeric = pd.product_id\n",
    "order by total_sold desc\n",
    "\n",
    "\"\"\"\n",
    "\n",
    "my_select_query_pandas(query, rollback_before_flag, rollback_after_flag)"
   ]
  },
  {
   "cell_type": "markdown",
   "id": "caa060da",
   "metadata": {},
   "source": [
    "# 2.6.6 Average number of meals per sale\n",
    "\n",
    "Write a query to find the average number of meals per sale, which should be equal to the total number of meals sold divided by the total number of sales, both of which we have calculated before.\n",
    "\n",
    "You may want to round to 1 decimal place.\n",
    "\n",
    "Remember that you need to convert varchars to numeric using column::numeric before doing any math on them.\n",
    "\n",
    "Pattern your code after the examples in the labs.  You may use as many code cells as you need."
   ]
  },
  {
   "cell_type": "code",
   "execution_count": 8,
   "id": "e60b0a29",
   "metadata": {},
   "outputs": [
    {
     "data": {
      "text/html": [
       "<div>\n",
       "<style scoped>\n",
       "    .dataframe tbody tr th:only-of-type {\n",
       "        vertical-align: middle;\n",
       "    }\n",
       "\n",
       "    .dataframe tbody tr th {\n",
       "        vertical-align: top;\n",
       "    }\n",
       "\n",
       "    .dataframe thead th {\n",
       "        text-align: right;\n",
       "    }\n",
       "</style>\n",
       "<table border=\"1\" class=\"dataframe\">\n",
       "  <thead>\n",
       "    <tr style=\"text-align: right;\">\n",
       "      <th></th>\n",
       "      <th>avg_meals_per_sale</th>\n",
       "    </tr>\n",
       "  </thead>\n",
       "  <tbody>\n",
       "    <tr>\n",
       "      <th>0</th>\n",
       "      <td>5.6</td>\n",
       "    </tr>\n",
       "  </tbody>\n",
       "</table>\n",
       "</div>"
      ],
      "text/plain": [
       "   avg_meals_per_sale\n",
       "0                 5.6"
      ]
     },
     "execution_count": 8,
     "metadata": {},
     "output_type": "execute_result"
    }
   ],
   "source": [
    "rollback_before_flag = True\n",
    "rollback_after_flag = True\n",
    "\n",
    "query  = \"\"\"\n",
    "\n",
    "select round(sum(temp.meals_per_sale)/count(temp.sale_id), 1) as avg_meals_per_sale\n",
    "from(select sale_id, sum(quantity::numeric) as meals_per_sale\n",
    "    from stage_1_peak_line_items\n",
    "    group by sale_id) as temp\n",
    "\n",
    "\"\"\"\n",
    "\n",
    "my_select_query_pandas(query, rollback_before_flag, rollback_after_flag)"
   ]
  },
  {
   "cell_type": "code",
   "execution_count": null,
   "id": "85791afd",
   "metadata": {},
   "outputs": [],
   "source": []
  }
 ],
 "metadata": {
  "kernelspec": {
   "display_name": "Python 3",
   "language": "python",
   "name": "python3"
  },
  "language_info": {
   "codemirror_mode": {
    "name": "ipython",
    "version": 3
   },
   "file_extension": ".py",
   "mimetype": "text/x-python",
   "name": "python",
   "nbconvert_exporter": "python",
   "pygments_lexer": "ipython3",
   "version": "3.8.8"
  }
 },
 "nbformat": 4,
 "nbformat_minor": 5
}
