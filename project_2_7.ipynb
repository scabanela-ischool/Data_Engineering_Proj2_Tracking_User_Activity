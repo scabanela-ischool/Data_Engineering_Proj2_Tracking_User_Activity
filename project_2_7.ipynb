{
 "cells": [
  {
   "cell_type": "markdown",
   "id": "3f465500",
   "metadata": {},
   "source": [
    "# Project 2, Part 7, Executive summary\n",
    "\n",
    "University of California, Berkeley\n",
    "\n",
    "Master of Information and Data Science (MIDS) program\n",
    "\n",
    "w205 - Fundamentals of Data Engineering\n",
    "\n",
    "Student: Stephanie Cabanela\n",
    "\n",
    "Year: 2022\n",
    "\n",
    "Semester: Spring\n",
    "\n",
    "Section: 7\n"
   ]
  },
  {
   "cell_type": "markdown",
   "id": "33c6e20e",
   "metadata": {},
   "source": [
    "# Included Modules and Packages\n",
    "\n",
    "Code cell containing your includes for modules and packages"
   ]
  },
  {
   "cell_type": "code",
   "execution_count": 1,
   "id": "63839f89",
   "metadata": {},
   "outputs": [],
   "source": [
    "import math\n",
    "import numpy as np\n",
    "import pandas as pd\n",
    "import psycopg2\n",
    "from datetime import datetime as dt\n",
    "import matplotlib.pyplot as plt"
   ]
  },
  {
   "cell_type": "markdown",
   "id": "c91c8869",
   "metadata": {},
   "source": [
    "# Supporting code\n",
    "\n",
    "Code cells containing any supporting code, such as connecting to the database, any functions, etc.  \n",
    "\n",
    "Remember you can freely use any code from the labs. You do not need to cite code from the labs."
   ]
  },
  {
   "cell_type": "code",
   "execution_count": 2,
   "id": "5d21fb19",
   "metadata": {},
   "outputs": [],
   "source": [
    "connection = psycopg2.connect(\n",
    "    user = \"postgres\",\n",
    "    password = \"ucb\",\n",
    "    host = \"postgres\",\n",
    "    port = \"5432\",\n",
    "    database = \"postgres\"\n",
    ")\n",
    "\n",
    "cursor = connection.cursor()\n",
    "\n",
    "def my_select_query_pandas(query, rollback_before_flag, rollback_after_flag):\n",
    "    \"function to run a select query and return rows in a pandas dataframe\"\n",
    "    \n",
    "    if rollback_before_flag:\n",
    "        connection.rollback()\n",
    "    \n",
    "    df = pd.read_sql_query(query, connection)\n",
    "    \n",
    "    if rollback_after_flag:\n",
    "        connection.rollback()\n",
    "    \n",
    "    # fix the float columns that really should be integers\n",
    "    \n",
    "    for column in df:\n",
    "    \n",
    "        if df[column].dtype == \"float64\":\n",
    "\n",
    "            fraction_flag = False\n",
    "\n",
    "            for value in df[column].values:\n",
    "                \n",
    "                if not np.isnan(value):\n",
    "                    if value - math.floor(value) != 0:\n",
    "                        fraction_flag = True\n",
    "\n",
    "            if not fraction_flag:\n",
    "                df[column] = df[column].astype('Int64')\n",
    "    \n",
    "    return(df)"
   ]
  },
  {
   "cell_type": "markdown",
   "id": "43566e1e",
   "metadata": {},
   "source": [
    "# ELT and Data Exploration"
   ]
  },
  {
   "cell_type": "markdown",
   "id": "8795666c",
   "metadata": {},
   "source": [
    "## Check for Duplicates"
   ]
  },
  {
   "cell_type": "code",
   "execution_count": 9,
   "id": "2c8177e0",
   "metadata": {},
   "outputs": [
    {
     "data": {
      "text/html": [
       "<div>\n",
       "<style scoped>\n",
       "    .dataframe tbody tr th:only-of-type {\n",
       "        vertical-align: middle;\n",
       "    }\n",
       "\n",
       "    .dataframe tbody tr th {\n",
       "        vertical-align: top;\n",
       "    }\n",
       "\n",
       "    .dataframe thead th {\n",
       "        text-align: right;\n",
       "    }\n",
       "</style>\n",
       "<table border=\"1\" class=\"dataframe\">\n",
       "  <thead>\n",
       "    <tr style=\"text-align: right;\">\n",
       "      <th></th>\n",
       "      <th>sale_id</th>\n",
       "      <th>sale_date</th>\n",
       "      <th>sub_total</th>\n",
       "      <th>tax</th>\n",
       "      <th>total_amount</th>\n",
       "      <th>number_of_duplicates</th>\n",
       "    </tr>\n",
       "  </thead>\n",
       "  <tbody>\n",
       "  </tbody>\n",
       "</table>\n",
       "</div>"
      ],
      "text/plain": [
       "Empty DataFrame\n",
       "Columns: [sale_id, sale_date, sub_total, tax, total_amount, number_of_duplicates]\n",
       "Index: []"
      ]
     },
     "execution_count": 9,
     "metadata": {},
     "output_type": "execute_result"
    }
   ],
   "source": [
    "rollback_before_flag = True\n",
    "rollback_after_flag = True\n",
    "\n",
    "query = \"\"\"\n",
    "\n",
    "select sale_id, sale_date, sub_total, tax, total_amount,\n",
    "       count(*) number_of_duplicates\n",
    "from stage_1_peak_sales\n",
    "group by sale_id, sale_date, sub_total, tax, total_amount\n",
    "having count(*) > 1\n",
    "order by sale_id\n",
    "\n",
    "\n",
    "\"\"\"\n",
    "\n",
    "my_select_query_pandas(query, rollback_before_flag, rollback_after_flag)"
   ]
  },
  {
   "cell_type": "code",
   "execution_count": 14,
   "id": "100b7f42",
   "metadata": {},
   "outputs": [
    {
     "data": {
      "text/html": [
       "<div>\n",
       "<style scoped>\n",
       "    .dataframe tbody tr th:only-of-type {\n",
       "        vertical-align: middle;\n",
       "    }\n",
       "\n",
       "    .dataframe tbody tr th {\n",
       "        vertical-align: top;\n",
       "    }\n",
       "\n",
       "    .dataframe thead th {\n",
       "        text-align: right;\n",
       "    }\n",
       "</style>\n",
       "<table border=\"1\" class=\"dataframe\">\n",
       "  <thead>\n",
       "    <tr style=\"text-align: right;\">\n",
       "      <th></th>\n",
       "      <th>sale_id</th>\n",
       "      <th>location_id</th>\n",
       "      <th>name</th>\n",
       "      <th>street</th>\n",
       "      <th>city</th>\n",
       "      <th>state</th>\n",
       "      <th>zip</th>\n",
       "      <th>number_of_duplicates</th>\n",
       "    </tr>\n",
       "  </thead>\n",
       "  <tbody>\n",
       "  </tbody>\n",
       "</table>\n",
       "</div>"
      ],
      "text/plain": [
       "Empty DataFrame\n",
       "Columns: [sale_id, location_id, name, street, city, state, zip, number_of_duplicates]\n",
       "Index: []"
      ]
     },
     "execution_count": 14,
     "metadata": {},
     "output_type": "execute_result"
    }
   ],
   "source": [
    "rollback_before_flag = True\n",
    "rollback_after_flag = True\n",
    "\n",
    "query = \"\"\"\n",
    "\n",
    "select sale_id, location_id, name, street, city, state, zip,\n",
    "       count(*) number_of_duplicates\n",
    "from stage_1_peak_stores\n",
    "group by sale_id, location_id, name, street, city, state, zip\n",
    "having count(*) > 1\n",
    "order by location_id\n",
    "\n",
    "\n",
    "\"\"\"\n",
    "\n",
    "my_select_query_pandas(query, rollback_before_flag, rollback_after_flag)"
   ]
  },
  {
   "cell_type": "code",
   "execution_count": 17,
   "id": "44fe72b4",
   "metadata": {},
   "outputs": [
    {
     "data": {
      "text/html": [
       "<div>\n",
       "<style scoped>\n",
       "    .dataframe tbody tr th:only-of-type {\n",
       "        vertical-align: middle;\n",
       "    }\n",
       "\n",
       "    .dataframe tbody tr th {\n",
       "        vertical-align: top;\n",
       "    }\n",
       "\n",
       "    .dataframe thead th {\n",
       "        text-align: right;\n",
       "    }\n",
       "</style>\n",
       "<table border=\"1\" class=\"dataframe\">\n",
       "  <thead>\n",
       "    <tr style=\"text-align: right;\">\n",
       "      <th></th>\n",
       "      <th>customer_id</th>\n",
       "      <th>first_name</th>\n",
       "      <th>last_name</th>\n",
       "      <th>street</th>\n",
       "      <th>city</th>\n",
       "      <th>state</th>\n",
       "      <th>zip</th>\n",
       "      <th>number_of_duplicates</th>\n",
       "    </tr>\n",
       "  </thead>\n",
       "  <tbody>\n",
       "  </tbody>\n",
       "</table>\n",
       "</div>"
      ],
      "text/plain": [
       "Empty DataFrame\n",
       "Columns: [customer_id, first_name, last_name, street, city, state, zip, number_of_duplicates]\n",
       "Index: []"
      ]
     },
     "execution_count": 17,
     "metadata": {},
     "output_type": "execute_result"
    }
   ],
   "source": [
    "rollback_before_flag = True\n",
    "rollback_after_flag = True\n",
    "\n",
    "query = \"\"\"\n",
    "\n",
    "select customer_id, first_name, last_name, street, city, state, zip,\n",
    "       count(*) number_of_duplicates\n",
    "from stage_1_peak_customers\n",
    "group by customer_id, first_name, last_name, street, city, state, zip\n",
    "having count(*) > 1\n",
    "order by customer_id\n",
    "\n",
    "\n",
    "\"\"\"\n",
    "\n",
    "my_select_query_pandas(query, rollback_before_flag, rollback_after_flag)"
   ]
  },
  {
   "cell_type": "code",
   "execution_count": 20,
   "id": "67cc6f65",
   "metadata": {},
   "outputs": [
    {
     "data": {
      "text/html": [
       "<div>\n",
       "<style scoped>\n",
       "    .dataframe tbody tr th:only-of-type {\n",
       "        vertical-align: middle;\n",
       "    }\n",
       "\n",
       "    .dataframe tbody tr th {\n",
       "        vertical-align: top;\n",
       "    }\n",
       "\n",
       "    .dataframe thead th {\n",
       "        text-align: right;\n",
       "    }\n",
       "</style>\n",
       "<table border=\"1\" class=\"dataframe\">\n",
       "  <thead>\n",
       "    <tr style=\"text-align: right;\">\n",
       "      <th></th>\n",
       "      <th>sale_id</th>\n",
       "      <th>line_item_id</th>\n",
       "      <th>product_id</th>\n",
       "      <th>price</th>\n",
       "      <th>quantity</th>\n",
       "      <th>taxable</th>\n",
       "      <th>number_of_duplicates</th>\n",
       "    </tr>\n",
       "  </thead>\n",
       "  <tbody>\n",
       "  </tbody>\n",
       "</table>\n",
       "</div>"
      ],
      "text/plain": [
       "Empty DataFrame\n",
       "Columns: [sale_id, line_item_id, product_id, price, quantity, taxable, number_of_duplicates]\n",
       "Index: []"
      ]
     },
     "execution_count": 20,
     "metadata": {},
     "output_type": "execute_result"
    }
   ],
   "source": [
    "rollback_before_flag = True\n",
    "rollback_after_flag = True\n",
    "\n",
    "query = \"\"\"\n",
    "\n",
    "select sale_id, line_item_id, product_id, price, quantity, taxable,\n",
    "       count(*) number_of_duplicates\n",
    "from stage_1_peak_line_items\n",
    "group by sale_id, line_item_id, product_id, price, quantity, taxable\n",
    "having count(*) > 1\n",
    "order by sale_id\n",
    "\n",
    "\n",
    "\"\"\"\n",
    "\n",
    "my_select_query_pandas(query, rollback_before_flag, rollback_after_flag)"
   ]
  },
  {
   "cell_type": "markdown",
   "id": "2d037214",
   "metadata": {},
   "source": [
    "## Check for Missing Values"
   ]
  },
  {
   "cell_type": "code",
   "execution_count": 26,
   "id": "0f7e6189",
   "metadata": {},
   "outputs": [
    {
     "data": {
      "text/html": [
       "<div>\n",
       "<style scoped>\n",
       "    .dataframe tbody tr th:only-of-type {\n",
       "        vertical-align: middle;\n",
       "    }\n",
       "\n",
       "    .dataframe tbody tr th {\n",
       "        vertical-align: top;\n",
       "    }\n",
       "\n",
       "    .dataframe thead th {\n",
       "        text-align: right;\n",
       "    }\n",
       "</style>\n",
       "<table border=\"1\" class=\"dataframe\">\n",
       "  <thead>\n",
       "    <tr style=\"text-align: right;\">\n",
       "      <th></th>\n",
       "      <th>stage_id</th>\n",
       "      <th>sale_id</th>\n",
       "      <th>sale_date</th>\n",
       "      <th>sub_total</th>\n",
       "      <th>tax</th>\n",
       "      <th>total_amount</th>\n",
       "    </tr>\n",
       "  </thead>\n",
       "  <tbody>\n",
       "  </tbody>\n",
       "</table>\n",
       "</div>"
      ],
      "text/plain": [
       "Empty DataFrame\n",
       "Columns: [stage_id, sale_id, sale_date, sub_total, tax, total_amount]\n",
       "Index: []"
      ]
     },
     "execution_count": 26,
     "metadata": {},
     "output_type": "execute_result"
    }
   ],
   "source": [
    "rollback_before_flag = True\n",
    "rollback_after_flag = True\n",
    "\n",
    "query = \"\"\"\n",
    "\n",
    "select *\n",
    "from stage_1_peak_sales\n",
    "where stage_id is null or sale_id is null\n",
    "    or sale_date is null or sub_total is null\n",
    "    or tax is null or total_amount is null\n",
    "\n",
    "\n",
    "\"\"\"\n",
    "\n",
    "my_select_query_pandas(query, rollback_before_flag, rollback_after_flag)"
   ]
  },
  {
   "cell_type": "code",
   "execution_count": 28,
   "id": "6dcec41e",
   "metadata": {},
   "outputs": [
    {
     "data": {
      "text/html": [
       "<div>\n",
       "<style scoped>\n",
       "    .dataframe tbody tr th:only-of-type {\n",
       "        vertical-align: middle;\n",
       "    }\n",
       "\n",
       "    .dataframe tbody tr th {\n",
       "        vertical-align: top;\n",
       "    }\n",
       "\n",
       "    .dataframe thead th {\n",
       "        text-align: right;\n",
       "    }\n",
       "</style>\n",
       "<table border=\"1\" class=\"dataframe\">\n",
       "  <thead>\n",
       "    <tr style=\"text-align: right;\">\n",
       "      <th></th>\n",
       "      <th>stage_id</th>\n",
       "      <th>sale_id</th>\n",
       "      <th>location_id</th>\n",
       "      <th>name</th>\n",
       "      <th>street</th>\n",
       "      <th>city</th>\n",
       "      <th>state</th>\n",
       "      <th>zip</th>\n",
       "    </tr>\n",
       "  </thead>\n",
       "  <tbody>\n",
       "  </tbody>\n",
       "</table>\n",
       "</div>"
      ],
      "text/plain": [
       "Empty DataFrame\n",
       "Columns: [stage_id, sale_id, location_id, name, street, city, state, zip]\n",
       "Index: []"
      ]
     },
     "execution_count": 28,
     "metadata": {},
     "output_type": "execute_result"
    }
   ],
   "source": [
    "rollback_before_flag = True\n",
    "rollback_after_flag = True\n",
    "\n",
    "query = \"\"\"\n",
    "\n",
    "select *\n",
    "from stage_1_peak_stores\n",
    "where stage_id is null\n",
    "    or sale_id is null\n",
    "    or location_id is null\n",
    "    or name is null\n",
    "    or street is null\n",
    "    or city is null\n",
    "    or state is null\n",
    "    or zip is null\n",
    "\n",
    "\"\"\"\n",
    "\n",
    "my_select_query_pandas(query, rollback_before_flag, rollback_after_flag)"
   ]
  },
  {
   "cell_type": "code",
   "execution_count": 30,
   "id": "b1bf563a",
   "metadata": {},
   "outputs": [
    {
     "data": {
      "text/html": [
       "<div>\n",
       "<style scoped>\n",
       "    .dataframe tbody tr th:only-of-type {\n",
       "        vertical-align: middle;\n",
       "    }\n",
       "\n",
       "    .dataframe tbody tr th {\n",
       "        vertical-align: top;\n",
       "    }\n",
       "\n",
       "    .dataframe thead th {\n",
       "        text-align: right;\n",
       "    }\n",
       "</style>\n",
       "<table border=\"1\" class=\"dataframe\">\n",
       "  <thead>\n",
       "    <tr style=\"text-align: right;\">\n",
       "      <th></th>\n",
       "      <th>stage_id</th>\n",
       "      <th>sale_id</th>\n",
       "      <th>customer_id</th>\n",
       "      <th>first_name</th>\n",
       "      <th>last_name</th>\n",
       "      <th>street</th>\n",
       "      <th>city</th>\n",
       "      <th>state</th>\n",
       "      <th>zip</th>\n",
       "    </tr>\n",
       "  </thead>\n",
       "  <tbody>\n",
       "  </tbody>\n",
       "</table>\n",
       "</div>"
      ],
      "text/plain": [
       "Empty DataFrame\n",
       "Columns: [stage_id, sale_id, customer_id, first_name, last_name, street, city, state, zip]\n",
       "Index: []"
      ]
     },
     "execution_count": 30,
     "metadata": {},
     "output_type": "execute_result"
    }
   ],
   "source": [
    "rollback_before_flag = True\n",
    "rollback_after_flag = True\n",
    "\n",
    "query = \"\"\"\n",
    "\n",
    "select *\n",
    "from stage_1_peak_customers\n",
    "where stage_id is null\n",
    "or sale_id is null\n",
    "or customer_id is null\n",
    "or first_name is null\n",
    "or last_name is null\n",
    "or street is null\n",
    "or city is null\n",
    "or state is null\n",
    "or zip is null\n",
    "\n",
    "\"\"\"\n",
    "\n",
    "my_select_query_pandas(query, rollback_before_flag, rollback_after_flag)"
   ]
  },
  {
   "cell_type": "code",
   "execution_count": 33,
   "id": "570678ca",
   "metadata": {},
   "outputs": [
    {
     "data": {
      "text/html": [
       "<div>\n",
       "<style scoped>\n",
       "    .dataframe tbody tr th:only-of-type {\n",
       "        vertical-align: middle;\n",
       "    }\n",
       "\n",
       "    .dataframe tbody tr th {\n",
       "        vertical-align: top;\n",
       "    }\n",
       "\n",
       "    .dataframe thead th {\n",
       "        text-align: right;\n",
       "    }\n",
       "</style>\n",
       "<table border=\"1\" class=\"dataframe\">\n",
       "  <thead>\n",
       "    <tr style=\"text-align: right;\">\n",
       "      <th></th>\n",
       "      <th>stage_id</th>\n",
       "      <th>sale_id</th>\n",
       "      <th>line_item_id</th>\n",
       "      <th>product_id</th>\n",
       "      <th>price</th>\n",
       "      <th>quantity</th>\n",
       "      <th>taxable</th>\n",
       "    </tr>\n",
       "  </thead>\n",
       "  <tbody>\n",
       "  </tbody>\n",
       "</table>\n",
       "</div>"
      ],
      "text/plain": [
       "Empty DataFrame\n",
       "Columns: [stage_id, sale_id, line_item_id, product_id, price, quantity, taxable]\n",
       "Index: []"
      ]
     },
     "execution_count": 33,
     "metadata": {},
     "output_type": "execute_result"
    }
   ],
   "source": [
    "rollback_before_flag = True\n",
    "rollback_after_flag = True\n",
    "\n",
    "query = \"\"\"\n",
    "\n",
    "select *\n",
    "from stage_1_peak_line_items\n",
    "where stage_id is null\n",
    "or sale_id is null\n",
    "or line_item_id is null\n",
    "or product_id is null\n",
    "or price is null\n",
    "or quantity is null\n",
    "or taxable is null\n",
    "\n",
    "\"\"\"\n",
    "\n",
    "my_select_query_pandas(query, rollback_before_flag, rollback_after_flag)"
   ]
  },
  {
   "cell_type": "markdown",
   "id": "d81103d3",
   "metadata": {},
   "source": [
    "## Check for Outliers"
   ]
  },
  {
   "cell_type": "code",
   "execution_count": 53,
   "id": "faaa5ba4",
   "metadata": {},
   "outputs": [
    {
     "data": {
      "image/png": "[encoded data removed]",
      "text/plain": [
       "<Figure size 720x360 with 1 Axes>"
      ]
     },
     "metadata": {
      "needs_background": "light"
     },
     "output_type": "display_data"
    }
   ],
   "source": [
    "rollback_before_flag = True\n",
    "rollback_after_flag = True\n",
    "\n",
    "query = \"\"\"\n",
    "\n",
    "select total_amount::numeric\n",
    "from stage_1_peak_sales\n",
    "\n",
    "\n",
    "\"\"\"\n",
    "\n",
    "df_outliers_sales = my_select_query_pandas(query, rollback_before_flag, rollback_after_flag)\n",
    "plt.figure(figsize=(10,5))\n",
    "plt.hist(df_outliers_sales['total_amount'], bins=25)\n",
    "plt.title('Histogram of Peak Sales')\n",
    "plt.xlabel('Dollar Amount')\n",
    "plt.ylabel('count')\n",
    "plt.show()"
   ]
  },
  {
   "cell_type": "code",
   "execution_count": 59,
   "id": "ff2b6000",
   "metadata": {},
   "outputs": [
    {
     "data": {
      "image/png": "[encoded data removed]",
      "text/plain": [
       "<Figure size 720x360 with 1 Axes>"
      ]
     },
     "metadata": {
      "needs_background": "light"
     },
     "output_type": "display_data"
    }
   ],
   "source": [
    "rollback_before_flag = True\n",
    "rollback_after_flag = True\n",
    "\n",
    "query = \"\"\"\n",
    "\n",
    "select city\n",
    "from stage_1_peak_stores\n",
    "\n",
    "\n",
    "\"\"\"\n",
    "\n",
    "df_outliers_sales = my_select_query_pandas(query, rollback_before_flag, rollback_after_flag)\n",
    "plt.figure(figsize=(10,5))\n",
    "plt.hist(df_outliers_sales['city'], bins=25)\n",
    "plt.title('Histogram of Peak Stores')\n",
    "plt.xlabel('Store City')\n",
    "plt.ylabel('count')\n",
    "plt.show()"
   ]
  },
  {
   "cell_type": "code",
   "execution_count": 68,
   "id": "72751474",
   "metadata": {},
   "outputs": [
    {
     "data": {
      "image/png": "[encoded data removed]",
      "text/plain": [
       "<Figure size 720x504 with 1 Axes>"
      ]
     },
     "metadata": {
      "needs_background": "light"
     },
     "output_type": "display_data"
    }
   ],
   "source": [
    "rollback_before_flag = True\n",
    "rollback_after_flag = True\n",
    "\n",
    "query = \"\"\"\n",
    "\n",
    "select quantity::numeric\n",
    "from stage_1_peak_line_items\n",
    "\n",
    "\n",
    "\"\"\"\n",
    "\n",
    "df_outliers_sales = my_select_query_pandas(query, rollback_before_flag, rollback_after_flag)\n",
    "plt.figure(figsize=(10,7))\n",
    "plt.hist(df_outliers_sales['quantity'], bins=6)\n",
    "plt.title('Histogram of Peak Line Items')\n",
    "plt.xlabel('Quantity')\n",
    "plt.ylabel('count')\n",
    "plt.show()"
   ]
  },
  {
   "cell_type": "code",
   "execution_count": 30,
   "id": "aa973d46",
   "metadata": {},
   "outputs": [
    {
     "data": {
      "text/html": [
       "<div>\n",
       "<style scoped>\n",
       "    .dataframe tbody tr th:only-of-type {\n",
       "        vertical-align: middle;\n",
       "    }\n",
       "\n",
       "    .dataframe tbody tr th {\n",
       "        vertical-align: top;\n",
       "    }\n",
       "\n",
       "    .dataframe thead th {\n",
       "        text-align: right;\n",
       "    }\n",
       "</style>\n",
       "<table border=\"1\" class=\"dataframe\">\n",
       "  <thead>\n",
       "    <tr style=\"text-align: right;\">\n",
       "      <th></th>\n",
       "      <th>stage_id</th>\n",
       "      <th>sale_id</th>\n",
       "      <th>line_item_id</th>\n",
       "      <th>product_id</th>\n",
       "      <th>price</th>\n",
       "      <th>quantity</th>\n",
       "      <th>taxable</th>\n",
       "    </tr>\n",
       "  </thead>\n",
       "  <tbody>\n",
       "    <tr>\n",
       "      <th>0</th>\n",
       "      <td>328</td>\n",
       "      <td>5763728666</td>\n",
       "      <td>1</td>\n",
       "      <td>42314780</td>\n",
       "      <td>12</td>\n",
       "      <td>6</td>\n",
       "      <td>N</td>\n",
       "    </tr>\n",
       "  </tbody>\n",
       "</table>\n",
       "</div>"
      ],
      "text/plain": [
       "   stage_id     sale_id line_item_id product_id price quantity taxable\n",
       "0       328  5763728666            1   42314780    12        6       N"
      ]
     },
     "execution_count": 30,
     "metadata": {},
     "output_type": "execute_result"
    }
   ],
   "source": [
    "rollback_before_flag = True\n",
    "rollback_after_flag = True\n",
    "\n",
    "query = \"\"\"\n",
    "\n",
    "select *\n",
    "from stage_1_peak_line_items\n",
    "where quantity::numeric = 6\n",
    "\n",
    "\n",
    "\"\"\"\n",
    "\n",
    "my_select_query_pandas(query, rollback_before_flag, rollback_after_flag)"
   ]
  },
  {
   "cell_type": "markdown",
   "id": "3753f9d9",
   "metadata": {},
   "source": [
    "## Check for Violation of Referential Integrity"
   ]
  },
  {
   "cell_type": "code",
   "execution_count": 79,
   "id": "7b269e09",
   "metadata": {},
   "outputs": [
    {
     "data": {
      "text/html": [
       "<div>\n",
       "<style scoped>\n",
       "    .dataframe tbody tr th:only-of-type {\n",
       "        vertical-align: middle;\n",
       "    }\n",
       "\n",
       "    .dataframe tbody tr th {\n",
       "        vertical-align: top;\n",
       "    }\n",
       "\n",
       "    .dataframe thead th {\n",
       "        text-align: right;\n",
       "    }\n",
       "</style>\n",
       "<table border=\"1\" class=\"dataframe\">\n",
       "  <thead>\n",
       "    <tr style=\"text-align: right;\">\n",
       "      <th></th>\n",
       "      <th>stage_id</th>\n",
       "      <th>sale_id</th>\n",
       "      <th>location_id</th>\n",
       "      <th>name</th>\n",
       "      <th>street</th>\n",
       "      <th>city</th>\n",
       "      <th>state</th>\n",
       "      <th>zip</th>\n",
       "    </tr>\n",
       "  </thead>\n",
       "  <tbody>\n",
       "  </tbody>\n",
       "</table>\n",
       "</div>"
      ],
      "text/plain": [
       "Empty DataFrame\n",
       "Columns: [stage_id, sale_id, location_id, name, street, city, state, zip]\n",
       "Index: []"
      ]
     },
     "execution_count": 79,
     "metadata": {},
     "output_type": "execute_result"
    }
   ],
   "source": [
    "rollback_before_flag = True\n",
    "rollback_after_flag = True\n",
    "\n",
    "query  = \"\"\"\n",
    "\n",
    "select *\n",
    "from stage_1_peak_stores\n",
    "where sale_id not in (select sale_id from stage_1_peak_sales)\n",
    "\n",
    "\n",
    "\"\"\"\n",
    "\n",
    "my_select_query_pandas(query, rollback_before_flag, rollback_after_flag)"
   ]
  },
  {
   "cell_type": "code",
   "execution_count": 83,
   "id": "68243b49",
   "metadata": {},
   "outputs": [
    {
     "data": {
      "text/html": [
       "<div>\n",
       "<style scoped>\n",
       "    .dataframe tbody tr th:only-of-type {\n",
       "        vertical-align: middle;\n",
       "    }\n",
       "\n",
       "    .dataframe tbody tr th {\n",
       "        vertical-align: top;\n",
       "    }\n",
       "\n",
       "    .dataframe thead th {\n",
       "        text-align: right;\n",
       "    }\n",
       "</style>\n",
       "<table border=\"1\" class=\"dataframe\">\n",
       "  <thead>\n",
       "    <tr style=\"text-align: right;\">\n",
       "      <th></th>\n",
       "      <th>stage_id</th>\n",
       "      <th>sale_id</th>\n",
       "      <th>customer_id</th>\n",
       "      <th>first_name</th>\n",
       "      <th>last_name</th>\n",
       "      <th>street</th>\n",
       "      <th>city</th>\n",
       "      <th>state</th>\n",
       "      <th>zip</th>\n",
       "    </tr>\n",
       "  </thead>\n",
       "  <tbody>\n",
       "  </tbody>\n",
       "</table>\n",
       "</div>"
      ],
      "text/plain": [
       "Empty DataFrame\n",
       "Columns: [stage_id, sale_id, customer_id, first_name, last_name, street, city, state, zip]\n",
       "Index: []"
      ]
     },
     "execution_count": 83,
     "metadata": {},
     "output_type": "execute_result"
    }
   ],
   "source": [
    "rollback_before_flag = True\n",
    "rollback_after_flag = True\n",
    "\n",
    "query  = \"\"\"\n",
    "\n",
    "select *\n",
    "from stage_1_peak_customers\n",
    "where sale_id not in (select sale_id from stage_1_peak_sales)\n",
    "\n",
    "\n",
    "\"\"\"\n",
    "\n",
    "my_select_query_pandas(query, rollback_before_flag, rollback_after_flag)"
   ]
  },
  {
   "cell_type": "code",
   "execution_count": 87,
   "id": "b7418963",
   "metadata": {},
   "outputs": [
    {
     "data": {
      "text/html": [
       "<div>\n",
       "<style scoped>\n",
       "    .dataframe tbody tr th:only-of-type {\n",
       "        vertical-align: middle;\n",
       "    }\n",
       "\n",
       "    .dataframe tbody tr th {\n",
       "        vertical-align: top;\n",
       "    }\n",
       "\n",
       "    .dataframe thead th {\n",
       "        text-align: right;\n",
       "    }\n",
       "</style>\n",
       "<table border=\"1\" class=\"dataframe\">\n",
       "  <thead>\n",
       "    <tr style=\"text-align: right;\">\n",
       "      <th></th>\n",
       "      <th>stage_id</th>\n",
       "      <th>sale_id</th>\n",
       "      <th>line_item_id</th>\n",
       "      <th>product_id</th>\n",
       "      <th>price</th>\n",
       "      <th>quantity</th>\n",
       "      <th>taxable</th>\n",
       "    </tr>\n",
       "  </thead>\n",
       "  <tbody>\n",
       "  </tbody>\n",
       "</table>\n",
       "</div>"
      ],
      "text/plain": [
       "Empty DataFrame\n",
       "Columns: [stage_id, sale_id, line_item_id, product_id, price, quantity, taxable]\n",
       "Index: []"
      ]
     },
     "execution_count": 87,
     "metadata": {},
     "output_type": "execute_result"
    }
   ],
   "source": [
    "rollback_before_flag = True\n",
    "rollback_after_flag = True\n",
    "\n",
    "query  = \"\"\"\n",
    "\n",
    "select *\n",
    "from stage_1_peak_line_items\n",
    "where sale_id not in (select sale_id from stage_1_peak_sales)\n",
    "\n",
    "\n",
    "\"\"\"\n",
    "\n",
    "my_select_query_pandas(query, rollback_before_flag, rollback_after_flag)"
   ]
  },
  {
   "cell_type": "markdown",
   "id": "dae60d57",
   "metadata": {},
   "source": [
    "## Stage 2 Tables: Copy clean data into another staging table with actual data types"
   ]
  },
  {
   "cell_type": "code",
   "execution_count": 3,
   "id": "afedbb46",
   "metadata": {},
   "outputs": [],
   "source": [
    "connection.rollback()\n",
    "\n",
    "query = \"\"\"\n",
    "\n",
    "drop table if exists stage_2_peak_sales;\n",
    "drop table if exists stage_2_peak_stores;\n",
    "drop table if exists stage_2_peak_customers;\n",
    "drop table if exists stage_2_peak_line_items;\n",
    "\n",
    "\"\"\"\n",
    "\n",
    "cursor.execute(query)\n",
    "\n",
    "connection.commit()"
   ]
  },
  {
   "cell_type": "code",
   "execution_count": 4,
   "id": "d96469f5",
   "metadata": {},
   "outputs": [],
   "source": [
    "connection.rollback()\n",
    "\n",
    "query = \"\"\"\n",
    "\n",
    "create table stage_2_peak_sales (\n",
    "  stage_id serial,\n",
    "  sale_id numeric(10),\n",
    "  sale_date date,\n",
    "  sub_total numeric(3),\n",
    "  tax numeric(2),\n",
    "  total_amount numeric(3)\n",
    ");\n",
    "\n",
    "create table stage_2_peak_stores (\n",
    "  stage_id serial,\n",
    "  sale_id numeric(10),\n",
    "  location_id numeric(5),\n",
    "  name varchar(18),\n",
    "  street varchar(32),\n",
    "  city varchar(32),\n",
    "  state varchar(2),\n",
    "  zip varchar(5)\n",
    ");\n",
    "\n",
    "create table stage_2_peak_customers (\n",
    "  stage_id serial,\n",
    "  sale_id numeric(10),\n",
    "  customer_id numeric(7),\n",
    "  first_name varchar(32),\n",
    "  last_name varchar(32),\n",
    "  street varchar(32),\n",
    "  city varchar(32),\n",
    "  state varchar(2),\n",
    "  zip varchar(5)\n",
    ");\n",
    "\n",
    "create table stage_2_peak_line_items (\n",
    "  stage_id serial,\n",
    "  sale_id numeric(10),\n",
    "  line_item_id numeric(3),\n",
    "  product_id numeric(8),\n",
    "  price numeric(2),\n",
    "  quantity numeric(3),\n",
    "  taxable varchar(1)\n",
    ");\n",
    "\n",
    "\"\"\"\n",
    "\n",
    "cursor.execute(query)\n",
    "\n",
    "connection.commit()"
   ]
  },
  {
   "cell_type": "code",
   "execution_count": 5,
   "id": "fad4a99b",
   "metadata": {},
   "outputs": [],
   "source": [
    "connection.rollback()\n",
    "\n",
    "query = \"\"\"\n",
    "\n",
    "insert into stage_2_peak_sales\n",
    "(stage_id, sale_id, sale_date, sub_total, tax, total_amount)\n",
    "select stage_id,\n",
    "  sale_id::numeric,\n",
    "  sale_date::date,\n",
    "  sub_total::numeric,\n",
    "  tax::numeric,\n",
    "  total_amount::numeric\n",
    "from stage_1_peak_sales\n",
    "order by stage_id;\n",
    "\n",
    "\"\"\"\n",
    "\n",
    "cursor.execute(query)\n",
    "\n",
    "connection.commit()"
   ]
  },
  {
   "cell_type": "code",
   "execution_count": 6,
   "id": "ef0aa4f5",
   "metadata": {},
   "outputs": [],
   "source": [
    "connection.rollback()\n",
    "\n",
    "query = \"\"\"\n",
    "\n",
    "insert into stage_2_peak_stores\n",
    "(stage_id, sale_id, location_id, name, street, city, state, zip)\n",
    "select stage_id,\n",
    "  sale_id::numeric,\n",
    "  location_id::numeric,\n",
    "  name,\n",
    "  street,\n",
    "  city,\n",
    "  state,\n",
    "  zip\n",
    "from stage_1_peak_stores\n",
    "order by stage_id;\n",
    "\n",
    "\"\"\"\n",
    "\n",
    "cursor.execute(query)\n",
    "\n",
    "connection.commit()"
   ]
  },
  {
   "cell_type": "code",
   "execution_count": 7,
   "id": "39d9b508",
   "metadata": {},
   "outputs": [],
   "source": [
    "connection.rollback()\n",
    "\n",
    "query = \"\"\"\n",
    "\n",
    "insert into stage_2_peak_customers\n",
    "(stage_id, sale_id, customer_id, first_name, last_name, street, city, state, zip)\n",
    "select stage_id,\n",
    "  sale_id::numeric,\n",
    "  customer_id::numeric,\n",
    "  first_name,\n",
    "  last_name,\n",
    "  street,\n",
    "  city,\n",
    "  state,\n",
    "  zip\n",
    "from stage_1_peak_customers\n",
    "order by stage_id;\n",
    "\n",
    "\"\"\"\n",
    "\n",
    "cursor.execute(query)\n",
    "\n",
    "connection.commit()"
   ]
  },
  {
   "cell_type": "code",
   "execution_count": 8,
   "id": "f549a0fc",
   "metadata": {},
   "outputs": [],
   "source": [
    "connection.rollback()\n",
    "\n",
    "query = \"\"\"\n",
    "\n",
    "insert into stage_2_peak_line_items\n",
    "(stage_id, sale_id, line_item_id, product_id, price, quantity, taxable)\n",
    "select stage_id,\n",
    "  sale_id::numeric,\n",
    "  line_item_id::numeric,\n",
    "  product_id::numeric,\n",
    "  price::numeric,\n",
    "  quantity::numeric,\n",
    "  taxable\n",
    "from stage_1_peak_line_items\n",
    "order by stage_id;\n",
    "\n",
    "\"\"\"\n",
    "\n",
    "cursor.execute(query)\n",
    "\n",
    "connection.commit()"
   ]
  },
  {
   "cell_type": "markdown",
   "id": "9bf65f40",
   "metadata": {},
   "source": [
    "# 2.7.1 Executive summary\n",
    "\n",
    "Write an executive summary.  \n",
    "\n",
    "The summary should be the equivalent to 3/4 to 1 page using standard fonts, spacing, and margins. \n",
    "\n",
    "You may write about any aspect (or aspects).  Basically figure out what you think is the most import aspect (or aspects) that the executives would want to know.  \n",
    "\n",
    "It could be related to the process itself. Such as how you were able to take a dataset, load it into staging tables, and get analytics very quickly, instead of a months long traditional waterfall process. \n",
    "\n",
    "It could be related to the preliminary analytics.  Any insights you gained.  Possible comparison to the analytics from project 1.  Do the delivery sales have different patterns or the same patterns as in store sales?  Is this a good way to grow sales? etc.\n",
    "\n",
    "It could be related to both.\n",
    "\n",
    "You are not required to write any queries nor create any data visualizations.  However, you may want to include some to enhance and add quality to your submission.  Submissions with these tend to be higher quality, although, not always.\n",
    "\n",
    "You may use any number of code cells and/or markdown cells. \n",
    "\n",
    "You may alternate between code cells and markdown cells.  That is perfectly fine.  It is understood that before we present it, an editor would pull out the text, results of queries, and data visualizations."
   ]
  },
  {
   "cell_type": "markdown",
   "id": "f9b218c1",
   "metadata": {},
   "source": [
    "## Executive Summary: Insights from Peak Deliveries Data and The ELT Process\n",
    "\n",
    "Our data analytics can only be as good as the data it originated from. With the traditional ETL-Waterfall framework, we would take weeks or months to develop code to extract, transform, and load the dataset based on specifications without looking at the data. If we find our data to be inappropriate, incorrect, or insufficient, this will undermine our analytics. Instead, taking a look at the actual data early using ELT with CI/CD practices allows us to identify these gaps and address them quickly, which this POC shows.\n",
    "\n",
    "In this POC, we evaluated the JSON data provided by Peak Deliveries using ELT. This process comprised of the following steps:\n",
    "\n",
    "* Stage 1: Loaded data into staging tables and performed data exploration to check for dirty data.\n",
    "| Data issue | Records affected |\n",
    "| :- | :- |\n",
    "| Invalid data types | 0 records |\n",
    "| Duplicates | 0 records |\n",
    "| Missing values | 0 records |\n",
    "| Outliers | 1 record with quantity = 6 in `peak_line_items` table |\n",
    "| Violation of referential integrity | 0 records |\n",
    "| Misspellings | 13 records in `peak_customers` table |\n",
    "\n",
    "* Stage 2: Loaded data into more staging tables and performed preliminary analytics."
   ]
  },
  {
   "cell_type": "markdown",
   "id": "d412d349",
   "metadata": {},
   "source": [
    "### Preliminary Analytics on Peak Deliveries Data\n",
    "The data cleansing process revealed that data retrieved from Peak Deliveries for this POC was relatively clean. We performed data cleansing, then data exploration, and then preliminary analytics. Since the Peak Deliveries sales data is limited to the Berkeley store on the date October 3, 2020, we only look at AGM sales data at the Berkeley store on the same date to have a fair comparison in our analysis. Despite the data’s limited scope, initial analysis revealed some insights that may be valuable to AGM business decisions moving forward."
   ]
  },
  {
   "cell_type": "code",
   "execution_count": 219,
   "id": "bbb2d8be",
   "metadata": {},
   "outputs": [
    {
     "data": {
      "text/html": [
       "<div>\n",
       "<style scoped>\n",
       "    .dataframe tbody tr th:only-of-type {\n",
       "        vertical-align: middle;\n",
       "    }\n",
       "\n",
       "    .dataframe tbody tr th {\n",
       "        vertical-align: top;\n",
       "    }\n",
       "\n",
       "    .dataframe thead th {\n",
       "        text-align: right;\n",
       "    }\n",
       "</style>\n",
       "<table border=\"1\" class=\"dataframe\">\n",
       "  <thead>\n",
       "    <tr style=\"text-align: right;\">\n",
       "      <th></th>\n",
       "      <th>agm_total_dollar_sales</th>\n",
       "      <th>agm_cut</th>\n",
       "      <th>peak_cut</th>\n",
       "    </tr>\n",
       "  </thead>\n",
       "  <tbody>\n",
       "    <tr>\n",
       "      <th>0</th>\n",
       "      <td>96708</td>\n",
       "      <td>5313.6</td>\n",
       "      <td>1166.4</td>\n",
       "    </tr>\n",
       "  </tbody>\n",
       "</table>\n",
       "</div>"
      ],
      "text/plain": [
       "   agm_total_dollar_sales  agm_cut  peak_cut\n",
       "0                   96708   5313.6    1166.4"
      ]
     },
     "execution_count": 219,
     "metadata": {},
     "output_type": "execute_result"
    }
   ],
   "source": [
    "rollback_before_flag = True\n",
    "rollback_after_flag = True\n",
    "\n",
    "query  = \"\"\"\n",
    "\n",
    "with agm_profit as (\n",
    "        select sum(sa.total_amount) as agm_total_dollar_sales\n",
    "        from stores as st\n",
    "            join sales as sa on st.store_id = sa.store_id\n",
    "        where sa.sale_date = '2020-10-03' and st.city = 'Berkeley'\n",
    "    ),\n",
    "    peak_net_profit as (\n",
    "        select sum(total_amount)*(0.18) as peak_cut,\n",
    "            sum(total_amount)*(1-0.18) as agm_cut\n",
    "        from stage_2_peak_sales\n",
    "    )\n",
    "select agm_total_dollar_sales, agm_cut, peak_cut\n",
    "from agm_profit cross join peak_net_profit\n",
    "\n",
    "\"\"\"\n",
    "\n",
    "total_dollars_df = my_select_query_pandas(query, rollback_before_flag, rollback_after_flag)\n",
    "total_dollars_df"
   ]
  },
  {
   "cell_type": "code",
   "execution_count": 220,
   "id": "29190866",
   "metadata": {},
   "outputs": [
    {
     "data": {
      "image/png": "[encoded data removed]",
      "text/plain": [
       "<Figure size 504x504 with 1 Axes>"
      ]
     },
     "metadata": {},
     "output_type": "display_data"
    }
   ],
   "source": [
    "agm_store_revenue = total_dollars_df.iloc[0][0]\n",
    "peak_revenue = total_dollars_df.iloc[0][1]\n",
    "peak_cut = total_dollars_df.iloc[0][2]\n",
    "\n",
    "values = [agm_store_revenue, peak_revenue, peak_cut]\n",
    "labelS_df = ['Revenue from AGM Store', 'Revenue made from Peak Deliveries', 'Cut Paid to Peak Deliveries']\n",
    "\n",
    "df = my_select_query_pandas(query, rollback_before_flag, rollback_after_flag)\n",
    "plt.figure(figsize=(7,7))\n",
    "plt.rcParams.update({'font.size' : 14})\n",
    "plt.pie(values, labels=labelS_df, autopct='%1.1f%%', explode=(0,0.7,0.5))\n",
    "plt.title('Figure 1: Revenue Sources on the Day of October 3, 2020 at the Berkeley Store')\n",
    "plt.show()"
   ]
  },
  {
   "cell_type": "markdown",
   "id": "a6daea3d",
   "metadata": {},
   "source": [
    "Figure 1 above shows that of the total revenue of \\\\$96,708 made on 10/03/2020 at the Berkeley store, 5.1\\% of it was \\\\$5,313.60 of revenue made from AGM’s share of delivery sales. 1.1\\% was paid to Peak Deliveries, and the rest of the revenue was made from in-store sales. Although the sales from Peak Deliveries provided a revenue boost, 5.1\\% of revenue from delivery might be too small to justify the cut paid to Peak Deliveries. Further analysis will need to be done to evaluate this, but Figure 1 provides a good starting point."
   ]
  },
  {
   "cell_type": "code",
   "execution_count": 254,
   "id": "f77df3b9",
   "metadata": {},
   "outputs": [
    {
     "data": {
      "text/html": [
       "<div>\n",
       "<style scoped>\n",
       "    .dataframe tbody tr th:only-of-type {\n",
       "        vertical-align: middle;\n",
       "    }\n",
       "\n",
       "    .dataframe tbody tr th {\n",
       "        vertical-align: top;\n",
       "    }\n",
       "\n",
       "    .dataframe thead th {\n",
       "        text-align: right;\n",
       "    }\n",
       "</style>\n",
       "<table border=\"1\" class=\"dataframe\">\n",
       "  <thead>\n",
       "    <tr style=\"text-align: right;\">\n",
       "      <th></th>\n",
       "      <th>agm_avg_meals_per_sale</th>\n",
       "      <th>peak_avg_meals_per_sale</th>\n",
       "    </tr>\n",
       "  </thead>\n",
       "  <tbody>\n",
       "    <tr>\n",
       "      <th>0</th>\n",
       "      <td>5.17</td>\n",
       "      <td>5.57</td>\n",
       "    </tr>\n",
       "  </tbody>\n",
       "</table>\n",
       "</div>"
      ],
      "text/plain": [
       "   agm_avg_meals_per_sale  peak_avg_meals_per_sale\n",
       "0                    5.17                     5.57"
      ]
     },
     "execution_count": 254,
     "metadata": {},
     "output_type": "execute_result"
    }
   ],
   "source": [
    "rollback_before_flag = True\n",
    "rollback_after_flag = True\n",
    "\n",
    "query  = \"\"\"\n",
    "\n",
    "with agm_avg_meals_per_sale as (\n",
    "        select round(sum(temp.meals_per_sale)/count(temp.sale_id), 2) as agm_avg_meals_per_sale\n",
    "        from(select sa.sale_id, sum(li.quantity) as meals_per_sale\n",
    "            from stores as st\n",
    "                join sales as sa on st.store_id = sa.store_id\n",
    "                join line_items as li on sa.store_id = li.store_id and sa.sale_id = li.sale_id\n",
    "                where sa.sale_date = '2020-10-03' and st.city = 'Berkeley'\n",
    "                group by sa.sale_id) as temp\n",
    "    ),\n",
    "    peak_avg_meals_per_sale as (\n",
    "        select round(sum(temp.meals_per_sale)/count(temp.sale_id), 2) as peak_avg_meals_per_sale\n",
    "        from(select sale_id, sum(quantity) as meals_per_sale\n",
    "            from stage_2_peak_line_items\n",
    "            group by sale_id) as temp\n",
    "    )\n",
    "select agm_avg_meals_per_sale, peak_avg_meals_per_sale\n",
    "from agm_avg_meals_per_sale cross join peak_avg_meals_per_sale\n",
    "\n",
    "\"\"\"\n",
    "\n",
    "df_avg_meals_per_sale = my_select_query_pandas(query, rollback_before_flag, rollback_after_flag)\n",
    "df_avg_meals_per_sale"
   ]
  },
  {
   "cell_type": "code",
   "execution_count": 253,
   "id": "109b2167",
   "metadata": {},
   "outputs": [
    {
     "data": {
      "image/png": "[encoded data removed]",
      "text/plain": [
       "<Figure size 288x360 with 1 Axes>"
      ]
     },
     "metadata": {
      "needs_background": "light"
     },
     "output_type": "display_data"
    }
   ],
   "source": [
    "agm_avg_meals_per_sale = df_avg_meals_per_sale.iloc[0][0]\n",
    "peak_avg_meals_per_sale = df_avg_meals_per_sale.iloc[0][1]\n",
    "\n",
    "values = [agm_avg_meals_per_sale, peak_avg_meals_per_sale]\n",
    "labels_df = ['AGM Stores', 'Peak Deliveries']\n",
    "\n",
    "plt.figure(figsize=(4,5))\n",
    "plt.bar(labels_df, values, width=0.4)\n",
    "plt.title('Figure 2: Average Number of Meals per Sale')\n",
    "plt.xlabel('Source of Sales')\n",
    "plt.ylabel('Avg # of Meals per Sale')\n",
    "plt.ylim([4,5.75])\n",
    "plt.show()"
   ]
  },
  {
   "cell_type": "markdown",
   "id": "09558e3d",
   "metadata": {},
   "source": [
    "Figure 2 above shows that delivery sales have a slightly higher average number of meals per sale (5.57) compared to in-store sales (5.17). This suggests that the convenience of deliveries may be a factor that encourages customers to order more meals per sale. Further research will need to be done to study factors influencing the quantity of meals per sale, and Figure 2 provides a good starting point."
   ]
  },
  {
   "cell_type": "markdown",
   "id": "844d635d",
   "metadata": {},
   "source": [
    "### Conclusion\n",
    "Ideally we would use ELT with CI/CD, in which we repeat the process of retrieving the data, loading it into staging tables, exploring the data, and delivering analytics. We did the first iteration in our POC. Using ELT with CI/CD brings us the following benefits:\n",
    "* **With better data, we get better analytics.** By taking a look at the actual data, we can ensure that the data meets our needs and identify any gaps that we can communicate early on with Peak Deliveries. This gives us higher quality data to work with and will yield helpful insights from the analytics.\n",
    "* **We get results faster.** As shown with the POC, we were able to get preliminary analytics with the actual data within a matter of days (as opposed to the weeks or months we would have spent using the waterfall approach).\n",
    "* **We spend less money and resources.** With the shorter ELT timeline, we spend less of our budget.\n",
    "\n",
    "The goal of our partnership with Peak Deliveries is ultimately to increase sales, grow our customer base, and increase profitability. The ELT with CI/CD approach can help us maximize our return on investment and reach our goal because it allows us to increase data quality and use our time and resources more efficiently."
   ]
  },
  {
   "cell_type": "code",
   "execution_count": null,
   "id": "e79c05d1",
   "metadata": {},
   "outputs": [],
   "source": []
  }
 ],
 "metadata": {
  "kernelspec": {
   "display_name": "Python 3",
   "language": "python",
   "name": "python3"
  },
  "language_info": {
   "codemirror_mode": {
    "name": "ipython",
    "version": 3
   },
   "file_extension": ".py",
   "mimetype": "text/x-python",
   "name": "python",
   "nbconvert_exporter": "python",
   "pygments_lexer": "ipython3",
   "version": "3.8.8"
  }
 },
 "nbformat": 4,
 "nbformat_minor": 5
}
